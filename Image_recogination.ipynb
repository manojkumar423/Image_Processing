{
 "cells": [
  {
   "cell_type": "code",
   "execution_count": 1,
   "metadata": {},
   "outputs": [
    {
     "data": {
      "text/plain": [
       "-1"
      ]
     },
     "execution_count": 1,
     "metadata": {},
     "output_type": "execute_result"
    }
   ],
   "source": [
    "import cv2\n",
    "imagePath = 'C:\\\\ImageRecognition\\\\photo1.jpg'\n",
    "cascadePath = 'C:\\\\ImageRecognition\\\\haarcascade_frontalface_default.xml'\n",
    "#create an object of haar cascade \n",
    "# cascadeClassifer(xml)\n",
    "faceCascade = cv2.CascadeClassifier(cascadePath)\n",
    "# Read the image \n",
    "image = cv2.imread(imagePath)\n",
    "gray = cv2.cvtColor(image, cv2.COLOR_BGR2GRAY)\n",
    "# Detect Face In Image \n",
    "# detectMultiScale()--> used to detect objects\n",
    "# first argument--> grayScale Image\n",
    "# second argument--> scaleFactor \n",
    "# Third Argument-->minNeighbours--> it defines how many objects are detected the near the current one\n",
    "# Fourth argument--> minSize--> what will be the minimum dimension for the file\n",
    "faces = faceCascade.detectMultiScale(gray, scaleFactor=1.1, \n",
    "                            minNeighbors = 5, minSize=(30,30) )\n",
    "\n",
    "# Draw a rectangle around faces \n",
    "for (x,y,w,h) in faces:\n",
    "    cv2.rectangle(image,(x,y),(x+w , y+h), (225,0,225),2)\n",
    "    \n",
    "cv2.imshow('Faces Found',image)\n",
    "\n",
    "cv2.waitKey(0)"
   ]
  },
  {
   "cell_type": "code",
   "execution_count": null,
   "metadata": {},
   "outputs": [],
   "source": [
    "\n"
   ]
  }
 ],
 "metadata": {
  "kernelspec": {
   "display_name": "Python 3",
   "language": "python",
   "name": "python3"
  }
 },
 "nbformat": 4,
 "nbformat_minor": 2
}
