{
 "cells": [
  {
   "cell_type": "code",
   "execution_count": null,
   "metadata": {},
   "outputs": [],
   "source": [
    "# load on image \n",
    "# Rotation\n",
    "\n",
    "\n",
    "from PIL import Image"
   ]
  },
  {
   "cell_type": "code",
   "execution_count": null,
   "metadata": {},
   "outputs": [],
   "source": [
    "def main():\n",
    "    try:\n",
    "        img =  Image.open('C:\\\\Users\\Manoj Kumar\\\\Pictures\\\\Saved Pictures\\\\Screenshot.png')\n",
    "        # Rotation --> rotate(angle_parameter)\n",
    "        img = img.rotate(180)\n",
    "        \n",
    "        # save my rotated image \n",
    "        img.save('C:\\\\Users\\Manoj Kumar\\\\Pictures\\\\Saved Pictures\\\\screen1.png')\n",
    "        \n",
    "    except IOError:\n",
    "        pass\n",
    "main()"
   ]
  },
  {
   "cell_type": "code",
   "execution_count": null,
   "metadata": {},
   "outputs": [],
   "source": [
    "# Resize Our Image\n",
    "def main():\n",
    "    try:\n",
    "        img = Image.open('C:\\\\Users\\Manoj Kumar\\\\Pictures\\\\Saved Pictures\\\\Screenshot.png')\n",
    "        width, height = img.size # retrieve the width and height\n",
    "        \n",
    "        img = img.resize((width//2,height//2))\n",
    "        \n",
    "        img.save('C:\\\\Users\\Manoj Kumar\\\\Pictures\\\\Saved Pictures\\\\screen1_resize.png')\n",
    "    except IOError:\n",
    "        pass\n",
    "main()"
   ]
  },
  {
   "cell_type": "code",
   "execution_count": null,
   "metadata": {},
   "outputs": [],
   "source": [
    "# Cropping of the Image\n",
    "def main():\n",
    "    try:\n",
    "        img = Image.open('C:\\\\Users\\Manoj Kumar\\\\Pictures\\\\Saved Pictures\\\\Screenshot.png')\n",
    "        width, height = img.size # retrieve the width and height\n",
    "        \n",
    "        area = (0,0,width//2,height//2)\n",
    "        img = img.crop(area)\n",
    "        \n",
    "        img.save('C:\\\\Users\\Manoj Kumar\\\\Pictures\\\\Saved Pictures\\\\screen1_Crop.png')\n",
    "    except IOError:\n",
    "        pass\n",
    "main()\n"
   ]
  },
  {
   "cell_type": "code",
   "execution_count": null,
   "metadata": {},
   "outputs": [],
   "source": [
    "def main():\n",
    "    try:\n",
    "        img1 = Image.open('C:\\\\Users\\\\Manoj Kumar\\\\Pictures\\\\Saved Pictures\\\\Screenshot.png')\n",
    "         # Specify the address of image which you want to super impose \n",
    "        img2 = Image.open('C:\\\\Users\\Manoj Kumar\\\\Pictures\\\\Saved Pictures\\\\download.png')\n",
    "        \n",
    "        img1.paste(img2,(50,50))\n",
    "        \n",
    "        img1.save('C:\\\\Users\\Manoj Kumar\\\\Pictures\\\\Saved Pictures\\\\Paste.png')\n",
    "    except IOError:\n",
    "        pass\n",
    "main()"
   ]
  },
  {
   "cell_type": "code",
   "execution_count": null,
   "metadata": {},
   "outputs": [],
   "source": [
    "# Histogram --> Count of the pixels of brightness values contained in an image\n",
    "\n",
    "def main():\n",
    "    try:\n",
    "        img = Image.open('C:\\\\Users\\\\Manoj Kumar\\\\Pictures\\\\Saved Pictures\\\\Screenshot.png')\n",
    "        \n",
    "        print(img.histogram())\n",
    "        \n",
    "    except IOError:\n",
    "        pass\n",
    "main()"
   ]
  },
  {
   "cell_type": "code",
   "execution_count": null,
   "metadata": {},
   "outputs": [],
   "source": [
    "# write a python script that fetch images from google\n",
    "\n",
    "!pip install google_images_download"
   ]
  },
  {
   "cell_type": "code",
   "execution_count": null,
   "metadata": {},
   "outputs": [],
   "source": [
    "from google_images_download import google_images_download\n",
    "\n",
    "# Create an object \n",
    "\n",
    "response = google_images_download.googleimagesdownload()\n",
    "\n",
    "search_queries = ['mens levis jeans']\n",
    "\n",
    "def downloadImages(query):\n",
    "   # keyword is the search query\n",
    "   # format is the image file format\n",
    "    # limit is the number of images to be downloaded\n",
    "    # print urls is used  to print the image file url\n",
    "    # Size is the image size which can be specified manually\n",
    "    #(large,medium,icon)\n",
    "    # aspect ration denote the height,width,ratio of images\n",
    "    #(tall,square,wide,panoramic)\n",
    "    arguments = {'keywords':query,\n",
    "                'format':'jpg',\n",
    "                'limit':4,\n",
    "                'print_urls':True,\n",
    "                'size':'medium',\n",
    "                'aspect_ratio':'panoramic'\n",
    "                }\n",
    "    try:\n",
    "        response.download(arguments)\n",
    "   \n",
    "    except FileNotFoundError:\n",
    "        arguments = {'keyword':query,\n",
    "                'format':'jpg',\n",
    "                'limit':4,\n",
    "                'print_urls':True,\n",
    "                'size':'medium',\n",
    "                }\n",
    "    try:\n",
    "         response.download(arguments)\n",
    "        \n",
    "    except:\n",
    "        pass\n",
    "        \n",
    "for query in search_queries:\n",
    "    downloadImages(query)\n",
    "    print()"
   ]
  },
  {
   "cell_type": "code",
   "execution_count": null,
   "metadata": {},
   "outputs": [],
   "source": []
  }
 ],
 "metadata": {
  "kernelspec": {
   "display_name": "Python 3",
   "language": "python",
   "name": "python3"
  },
  "language_info": {
   "codemirror_mode": {
    "name": "ipython",
    "version": 3
   },
   "file_extension": ".py",
   "mimetype": "text/x-python",
   "name": "python",
   "nbconvert_exporter": "python",
   "pygments_lexer": "ipython3",
   "version": "3.6.6"
  }
 },
 "nbformat": 4,
 "nbformat_minor": 2
}
